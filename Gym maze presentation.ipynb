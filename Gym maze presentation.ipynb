{
 "cells": [
  {
   "cell_type": "markdown",
   "metadata": {
    "slideshow": {
     "slide_type": "slide"
    }
   },
   "source": [
    "# Creating an AI to solve a maze with Q-learning\n",
    "\n",
    "## Gym: https://github.com/MattChanTK/gym-maze\n",
    "\n",
    "Emil Salmi"
   ]
  },
  {
   "cell_type": "markdown",
   "metadata": {
    "slideshow": {
     "slide_type": "slide"
    }
   },
   "source": [
    "### Learn and explore constrains"
   ]
  },
  {
   "cell_type": "code",
   "execution_count": 1,
   "metadata": {
    "slideshow": {
     "slide_type": "fragment"
    }
   },
   "outputs": [],
   "source": [
    "def explore(t):\n",
    "    # return explore either min_explore or minimum of 0.8 or 1-logimatric of episode+1 / decay\n",
    "    # after 15 episodes the explore goes down all the way to 0.001\n",
    "    return max(min_explore, min(0.8, 1.0 - math.log10((t+1)/decay)))\n",
    "\n",
    "\n",
    "def learn(t):\n",
    "    # return max amount of either min learn or minimum of 0.8 or 1-logimatric of episode+1 / decay\n",
    "    # after 15 episodes the learn rate goes down - all the way to the min_learn(0.2)\n",
    "    return max(min_learn, min(0.8, 1.0 - math.log10((t+1)/decay)))\n"
   ]
  },
  {
   "cell_type": "markdown",
   "metadata": {
    "slideshow": {
     "slide_type": "slide"
    }
   },
   "source": [
    "### Select next action"
   ]
  },
  {
   "cell_type": "code",
   "execution_count": 2,
   "metadata": {
    "slideshow": {
     "slide_type": "fragment"
    }
   },
   "outputs": [],
   "source": [
    "def next_action(state, explore_rate):\n",
    "    # Select a random action\n",
    "    if random.random() < explore_rate:\n",
    "        action = env.action_space.sample()\n",
    "    # Select the action with the highest q\n",
    "    else:\n",
    "        action = int(np.argmax(q_table[state]))\n",
    "    return action\n"
   ]
  },
  {
   "cell_type": "markdown",
   "metadata": {
    "slideshow": {
     "slide_type": "slide"
    }
   },
   "source": [
    "### Save state to bucket"
   ]
  },
  {
   "cell_type": "code",
   "execution_count": 3,
   "metadata": {
    "slideshow": {
     "slide_type": "fragment"
    }
   },
   "outputs": [],
   "source": [
    "def state_bucket(state):\n",
    "    bucket = []\n",
    "    # Loop state(position),[0 0] at start\n",
    "    for i in range(len(state)):\n",
    "        if state[i] <= bounds[i][0]:\n",
    "            bucket_i = 0\n",
    "        elif state[i] >= bounds[i][1]:\n",
    "            bucket_i = buckets[i] - 1\n",
    "        else:\n",
    "            # Mapping the state bounds to the bucket array\n",
    "            bound_width = bounds[i][1] - bounds[i][0]\n",
    "            offset = (buckets[i]-1)*bounds[i][0]/bound_width\n",
    "            scaling = (buckets[i]-1)/bound_width\n",
    "            bucket_i = int(round(scaling*state[i] - offset))\n",
    "        bucket.append(bucket_i)\n",
    "    return tuple(bucket)\n"
   ]
  },
  {
   "cell_type": "markdown",
   "metadata": {
    "slideshow": {
     "slide_type": "slide"
    }
   },
   "source": [
    "### Run simulation"
   ]
  },
  {
   "cell_type": "code",
   "execution_count": 4,
   "metadata": {
    "slideshow": {
     "slide_type": "skip"
    }
   },
   "outputs": [],
   "source": [
    "import sys\n",
    "import numpy as np\n",
    "import math\n",
    "import random\n",
    "\n",
    "import gym\n",
    "import gym_maze\n",
    "\n"
   ]
  },
  {
   "cell_type": "code",
   "execution_count": 5,
   "metadata": {
    "slideshow": {
     "slide_type": "subslide"
    }
   },
   "outputs": [],
   "source": [
    "\n",
    "def simulate():\n",
    "    \n",
    "    # Init learning and explore parameters\n",
    "    learning_rate = learn(0)\n",
    "    explore_rate = explore(0)\n",
    "    discount_factor = 0.99\n",
    "    streak = 0\n",
    "\n",
    "    # Render the maze\n",
    "    env.render()\n",
    "\n",
    "    # Loop for number of episodes\n",
    "    for episode in range(episodes):\n",
    "\n",
    "        # Reset the environment\n",
    "        res = env.reset()\n",
    "\n",
    "        # Initial state\n",
    "        state_0 = state_bucket(res)\n",
    "        reward_sum = 0\n",
    "\n",
    "\n"
   ]
  },
  {
   "cell_type": "code",
   "execution_count": null,
   "metadata": {
    "slideshow": {
     "slide_type": "subslide"
    }
   },
   "outputs": [],
   "source": [
    "    # Loop for number of episodes\n",
    "    for episode in range(episodes):\n",
    "\n",
    "        # Reset the environment\n",
    "        obsv = env.reset()\n",
    "\n",
    "        # Initial state\n",
    "        state_0 = state_bucket(obsv)\n",
    "        reward_sum = 0\n",
    "\n",
    "        # Loop max steps\n",
    "        for t in range(max_steps):\n",
    "\n",
    "            # Select next action and execute\n",
    "            action = next_action(state_0, explore_rate)\n",
    "            obsv, reward, done, _ = env.step(action)\n",
    "\n",
    "            # Log the action\n",
    "            state = state_bucket(obsv)\n",
    "            reward_sum += reward\n",
    "\n",
    "            # Update Q based on the action\n",
    "            best_q = np.amax(q_table[state])\n",
    "            q_table[state_0 + (action,)] += learning_rate * (reward + discount_factor * (best_q) - q_table[state_0 + (action,)])\n",
    "            # Setup next state\n",
    "            state_0 = state\n"
   ]
  },
  {
   "cell_type": "code",
   "execution_count": null,
   "metadata": {
    "slideshow": {
     "slide_type": "subslide"
    }
   },
   "outputs": [],
   "source": [
    "            env.render()\n",
    "\n",
    "            if env.is_game_over():\n",
    "                sys.exit()\n",
    "\n",
    "            if done:\n",
    "                print(f\"Episode: {episode}, steps: {t}, reward: {reward_sum}, streak: {streak}.\")\n",
    "                plot_info.append(reward_sum)\n",
    "                \n",
    "                if t <= solved_steps:\n",
    "                    streak += 1\n",
    "                else:\n",
    "                    streak = 0\n",
    "                break\n",
    "\n",
    "            elif t >= max_steps - 1:\n",
    "                print(f\"Reached max steps {max_steps}\")\n",
    "\n",
    "\n",
    "    \n",
    "        # Done when same result is reached n amount of times\n",
    "        if streak > max_streak:\n",
    "            break\n",
    "\n",
    "        # Update explore and learn\n",
    "        explore_rate = explore(episode)\n",
    "        learning_rate = learn(episode)\n"
   ]
  },
  {
   "cell_type": "markdown",
   "metadata": {
    "slideshow": {
     "slide_type": "slide"
    }
   },
   "source": [
    "### Create constrains and run"
   ]
  },
  {
   "cell_type": "code",
   "execution_count": 6,
   "metadata": {
    "slideshow": {
     "slide_type": "fragment"
    }
   },
   "outputs": [
    {
     "name": "stdout",
     "output_type": "stream",
     "text": [
      "pygame 2.0.0 (SDL 2.0.12, python 3.8.3)\n",
      "Hello from the pygame community. https://www.pygame.org/contribute.html\n",
      "Episode: 0, steps: 3683, reward: -2.6829999999997054, streak: 0.\n",
      "Episode: 1, steps: 914, reward: 0.0859999999999993, streak: 0.\n",
      "Episode: 2, steps: 369, reward: 0.6309999999999998, streak: 0.\n",
      "Episode: 3, steps: 217, reward: 0.7829999999999998, streak: 0.\n",
      "Episode: 4, steps: 1222, reward: -0.22199999999997622, streak: 0.\n",
      "Episode: 5, steps: 140, reward: 0.8599999999999999, streak: 0.\n",
      "Episode: 6, steps: 553, reward: 0.4469999999999996, streak: 0.\n",
      "Episode: 7, steps: 259, reward: 0.7409999999999999, streak: 0.\n",
      "Episode: 8, steps: 142, reward: 0.8579999999999999, streak: 0.\n",
      "Episode: 9, steps: 1512, reward: -0.5119999999999443, streak: 0.\n",
      "Episode: 10, steps: 115, reward: 0.8849999999999999, streak: 0.\n",
      "Episode: 11, steps: 130, reward: 0.8699999999999999, streak: 0.\n",
      "Episode: 12, steps: 176, reward: 0.8239999999999998, streak: 0.\n",
      "Episode: 13, steps: 87, reward: 0.9129999999999999, streak: 0.\n",
      "Episode: 14, steps: 92, reward: 0.9079999999999999, streak: 1.\n",
      "Episode: 15, steps: 409, reward: 0.5909999999999997, streak: 2.\n",
      "Episode: 16, steps: 154, reward: 0.8459999999999999, streak: 0.\n",
      "Episode: 17, steps: 154, reward: 0.8459999999999999, streak: 0.\n",
      "Episode: 18, steps: 70, reward: 0.9299999999999999, streak: 0.\n",
      "Episode: 19, steps: 87, reward: 0.9129999999999999, streak: 1.\n",
      "Episode: 20, steps: 74, reward: 0.9259999999999999, streak: 2.\n",
      "Episode: 21, steps: 58, reward: 0.942, streak: 3.\n",
      "Episode: 22, steps: 58, reward: 0.942, streak: 4.\n",
      "Episode: 23, steps: 55, reward: 0.945, streak: 5.\n",
      "Episode: 24, steps: 60, reward: 0.94, streak: 6.\n",
      "Episode: 25, steps: 67, reward: 0.9329999999999999, streak: 7.\n",
      "Episode: 26, steps: 41, reward: 0.959, streak: 8.\n",
      "Episode: 27, steps: 87, reward: 0.9129999999999999, streak: 9.\n",
      "Episode: 28, steps: 45, reward: 0.955, streak: 10.\n",
      "Episode: 29, steps: 61, reward: 0.939, streak: 11.\n",
      "Episode: 30, steps: 40, reward: 0.96, streak: 12.\n",
      "Episode: 31, steps: 44, reward: 0.956, streak: 13.\n",
      "Episode: 32, steps: 45, reward: 0.955, streak: 14.\n",
      "Episode: 33, steps: 47, reward: 0.953, streak: 15.\n",
      "Episode: 34, steps: 47, reward: 0.953, streak: 16.\n",
      "Episode: 35, steps: 33, reward: 0.967, streak: 17.\n",
      "Episode: 36, steps: 36, reward: 0.964, streak: 18.\n",
      "Episode: 37, steps: 45, reward: 0.955, streak: 19.\n",
      "Episode: 38, steps: 40, reward: 0.96, streak: 20.\n",
      "Episode: 39, steps: 45, reward: 0.955, streak: 21.\n",
      "Episode: 40, steps: 41, reward: 0.959, streak: 22.\n",
      "Episode: 41, steps: 29, reward: 0.971, streak: 23.\n",
      "Episode: 42, steps: 49, reward: 0.951, streak: 24.\n",
      "Episode: 43, steps: 33, reward: 0.967, streak: 25.\n",
      "Episode: 44, steps: 34, reward: 0.966, streak: 26.\n",
      "Episode: 45, steps: 33, reward: 0.967, streak: 27.\n",
      "Episode: 46, steps: 35, reward: 0.965, streak: 28.\n",
      "Episode: 47, steps: 29, reward: 0.971, streak: 29.\n",
      "Episode: 48, steps: 54, reward: 0.946, streak: 30.\n",
      "Episode: 49, steps: 38, reward: 0.962, streak: 31.\n",
      "Episode: 50, steps: 24, reward: 0.976, streak: 32.\n",
      "Episode: 51, steps: 30, reward: 0.97, streak: 33.\n",
      "Episode: 52, steps: 26, reward: 0.974, streak: 34.\n",
      "Episode: 53, steps: 30, reward: 0.97, streak: 35.\n",
      "Episode: 54, steps: 38, reward: 0.962, streak: 36.\n",
      "Episode: 55, steps: 32, reward: 0.968, streak: 37.\n",
      "Episode: 56, steps: 29, reward: 0.971, streak: 38.\n",
      "Episode: 57, steps: 26, reward: 0.974, streak: 39.\n",
      "Episode: 58, steps: 35, reward: 0.965, streak: 40.\n",
      "Episode: 59, steps: 29, reward: 0.971, streak: 41.\n",
      "Episode: 60, steps: 26, reward: 0.974, streak: 42.\n",
      "Episode: 61, steps: 30, reward: 0.97, streak: 43.\n",
      "Episode: 62, steps: 28, reward: 0.972, streak: 44.\n",
      "Episode: 63, steps: 23, reward: 0.977, streak: 45.\n",
      "Episode: 64, steps: 30, reward: 0.97, streak: 46.\n",
      "Episode: 65, steps: 29, reward: 0.971, streak: 47.\n",
      "Episode: 66, steps: 30, reward: 0.97, streak: 48.\n",
      "Episode: 67, steps: 25, reward: 0.975, streak: 49.\n",
      "Episode: 68, steps: 29, reward: 0.971, streak: 50.\n",
      "Episode: 69, steps: 25, reward: 0.975, streak: 51.\n",
      "Episode: 70, steps: 31, reward: 0.969, streak: 52.\n",
      "Episode: 71, steps: 25, reward: 0.975, streak: 53.\n",
      "Episode: 72, steps: 26, reward: 0.974, streak: 54.\n",
      "Episode: 73, steps: 25, reward: 0.975, streak: 55.\n",
      "Episode: 74, steps: 26, reward: 0.974, streak: 56.\n",
      "Episode: 75, steps: 25, reward: 0.975, streak: 57.\n",
      "Episode: 76, steps: 27, reward: 0.973, streak: 58.\n",
      "Episode: 77, steps: 26, reward: 0.974, streak: 59.\n",
      "Episode: 78, steps: 29, reward: 0.971, streak: 60.\n",
      "Episode: 79, steps: 27, reward: 0.973, streak: 61.\n",
      "Episode: 80, steps: 25, reward: 0.975, streak: 62.\n",
      "Episode: 81, steps: 25, reward: 0.975, streak: 63.\n",
      "Episode: 82, steps: 29, reward: 0.971, streak: 64.\n",
      "Episode: 83, steps: 27, reward: 0.973, streak: 65.\n",
      "Episode: 84, steps: 30, reward: 0.97, streak: 66.\n",
      "Episode: 85, steps: 25, reward: 0.975, streak: 67.\n",
      "Episode: 86, steps: 24, reward: 0.976, streak: 68.\n",
      "Episode: 87, steps: 23, reward: 0.977, streak: 69.\n",
      "Episode: 88, steps: 24, reward: 0.976, streak: 70.\n",
      "Episode: 89, steps: 23, reward: 0.977, streak: 71.\n",
      "Episode: 90, steps: 25, reward: 0.975, streak: 72.\n",
      "Episode: 91, steps: 25, reward: 0.975, streak: 73.\n",
      "Episode: 92, steps: 25, reward: 0.975, streak: 74.\n",
      "Episode: 93, steps: 23, reward: 0.977, streak: 75.\n",
      "Episode: 94, steps: 23, reward: 0.977, streak: 76.\n",
      "Episode: 95, steps: 23, reward: 0.977, streak: 77.\n",
      "Episode: 96, steps: 23, reward: 0.977, streak: 78.\n",
      "Episode: 97, steps: 24, reward: 0.976, streak: 79.\n",
      "Episode: 98, steps: 23, reward: 0.977, streak: 80.\n",
      "Episode: 99, steps: 23, reward: 0.977, streak: 81.\n",
      "Episode: 100, steps: 23, reward: 0.977, streak: 82.\n",
      "Episode: 101, steps: 23, reward: 0.977, streak: 83.\n",
      "Episode: 102, steps: 23, reward: 0.977, streak: 84.\n",
      "Episode: 103, steps: 23, reward: 0.977, streak: 85.\n",
      "Episode: 104, steps: 23, reward: 0.977, streak: 86.\n",
      "Episode: 105, steps: 23, reward: 0.977, streak: 87.\n",
      "Episode: 106, steps: 23, reward: 0.977, streak: 88.\n",
      "Episode: 107, steps: 23, reward: 0.977, streak: 89.\n",
      "Episode: 108, steps: 23, reward: 0.977, streak: 90.\n",
      "Episode: 109, steps: 23, reward: 0.977, streak: 91.\n",
      "Episode: 110, steps: 23, reward: 0.977, streak: 92.\n",
      "Episode: 111, steps: 23, reward: 0.977, streak: 93.\n",
      "Episode: 112, steps: 23, reward: 0.977, streak: 94.\n",
      "Episode: 113, steps: 23, reward: 0.977, streak: 95.\n",
      "Episode: 114, steps: 23, reward: 0.977, streak: 96.\n",
      "Episode: 115, steps: 23, reward: 0.977, streak: 97.\n",
      "Episode: 116, steps: 23, reward: 0.977, streak: 98.\n",
      "Episode: 117, steps: 23, reward: 0.977, streak: 99.\n",
      "Episode: 118, steps: 23, reward: 0.977, streak: 100.\n"
     ]
    }
   ],
   "source": [
    "if __name__ == \"__main__\":\n",
    "    # Create maze, here using a 10x10 random maze\n",
    "    env = gym.make(\"maze-random-10x10-v0\")\n",
    "    plot_info = []\n",
    "    # Environment costrains\n",
    "    # Get the size of the maze\n",
    "    size = tuple((env.observation_space.high + np.ones(env.observation_space.shape)).astype(int)) # 10, 10\n",
    "    buckets = size  # one bucket per grid (10, 10)\n",
    "    # Get number of actions, return Up, Down, Left, Right\n",
    "    actions = env.action_space.n  \n",
    "    # Get bounds for space\n",
    "    bounds = list(zip(env.observation_space.low, env.observation_space.high)) # (0, 9) (0, 9)\n",
    "    # Learning constrains\n",
    "    min_explore = 0.001\n",
    "    min_learn = 0.2\n",
    "    decay = np.prod(size, dtype=float) / 10.0 \n",
    "    # Constrains for simulation\n",
    "    episodes = 50000\n",
    "    max_steps = np.prod(size, dtype=int) * 100\n",
    "    max_streak = 100\n",
    "    solved_steps = np.prod(size, dtype=int)\n",
    "    # Create Q-table for each state and action\n",
    "    q_table = np.zeros(buckets + (actions,), dtype=float)\n",
    "    # Run simulation\n",
    "    simulate()\n"
   ]
  },
  {
   "cell_type": "code",
   "execution_count": 3,
   "metadata": {
    "slideshow": {
     "slide_type": "skip"
    }
   },
   "outputs": [
    {
     "name": "stdout",
     "output_type": "stream",
     "text": [
      "pygame 2.0.0 (SDL 2.0.12, python 3.8.3)\n",
      "Hello from the pygame community. https://www.pygame.org/contribute.html\n",
      "Episode: 0, steps: 768, reward: 0.23199999999999943, streak: 0.\n",
      "Episode: 1, steps: 3832, reward: -2.831999999999689, streak: 0.\n",
      "Episode: 2, steps: 757, reward: 0.24299999999999944, streak: 0.\n",
      "Episode: 3, steps: 5363, reward: -4.363000000000126, streak: 0.\n",
      "Episode: 4, steps: 638, reward: 0.36199999999999954, streak: 0.\n",
      "Episode: 5, steps: 188, reward: 0.8119999999999998, streak: 0.\n",
      "Episode: 6, steps: 590, reward: 0.4099999999999996, streak: 0.\n",
      "Episode: 7, steps: 1975, reward: -0.9749999999998933, streak: 0.\n",
      "Episode: 8, steps: 437, reward: 0.5629999999999997, streak: 0.\n",
      "Episode: 9, steps: 310, reward: 0.6899999999999997, streak: 0.\n",
      "Episode: 10, steps: 471, reward: 0.5289999999999997, streak: 0.\n",
      "Episode: 11, steps: 285, reward: 0.7149999999999999, streak: 0.\n",
      "Episode: 12, steps: 644, reward: 0.35599999999999954, streak: 0.\n",
      "Episode: 13, steps: 157, reward: 0.8429999999999999, streak: 0.\n",
      "Episode: 14, steps: 473, reward: 0.5269999999999997, streak: 0.\n",
      "Episode: 15, steps: 143, reward: 0.8569999999999999, streak: 0.\n",
      "Episode: 16, steps: 1214, reward: -0.2139999999999771, streak: 0.\n",
      "Episode: 17, steps: 2292, reward: -1.2919999999998586, streak: 0.\n",
      "Episode: 18, steps: 347, reward: 0.6529999999999998, streak: 0.\n",
      "Episode: 19, steps: 156, reward: 0.8439999999999999, streak: 0.\n",
      "Episode: 20, steps: 197, reward: 0.8029999999999998, streak: 0.\n",
      "Episode: 21, steps: 86, reward: 0.9139999999999999, streak: 0.\n",
      "Episode: 22, steps: 175, reward: 0.8249999999999998, streak: 1.\n",
      "Episode: 23, steps: 144, reward: 0.8559999999999999, streak: 0.\n",
      "Episode: 24, steps: 107, reward: 0.8929999999999999, streak: 0.\n",
      "Episode: 25, steps: 79, reward: 0.9209999999999999, streak: 0.\n",
      "Episode: 26, steps: 106, reward: 0.8939999999999999, streak: 1.\n",
      "Episode: 27, steps: 102, reward: 0.8979999999999999, streak: 0.\n",
      "Episode: 28, steps: 70, reward: 0.9299999999999999, streak: 0.\n",
      "Episode: 29, steps: 76, reward: 0.9239999999999999, streak: 1.\n",
      "Episode: 30, steps: 69, reward: 0.9309999999999999, streak: 2.\n",
      "Episode: 31, steps: 64, reward: 0.9359999999999999, streak: 3.\n",
      "Episode: 32, steps: 73, reward: 0.9269999999999999, streak: 4.\n",
      "Episode: 33, steps: 68, reward: 0.9319999999999999, streak: 5.\n",
      "Episode: 34, steps: 64, reward: 0.9359999999999999, streak: 6.\n",
      "Episode: 35, steps: 66, reward: 0.9339999999999999, streak: 7.\n",
      "Episode: 36, steps: 69, reward: 0.9309999999999999, streak: 8.\n",
      "Episode: 37, steps: 53, reward: 0.947, streak: 9.\n",
      "Episode: 38, steps: 54, reward: 0.946, streak: 10.\n",
      "Episode: 39, steps: 57, reward: 0.943, streak: 11.\n",
      "Episode: 40, steps: 49, reward: 0.951, streak: 12.\n",
      "Episode: 41, steps: 42, reward: 0.958, streak: 13.\n",
      "Episode: 42, steps: 45, reward: 0.955, streak: 14.\n",
      "Episode: 43, steps: 45, reward: 0.955, streak: 15.\n",
      "Episode: 44, steps: 42, reward: 0.958, streak: 16.\n",
      "Episode: 45, steps: 52, reward: 0.948, streak: 17.\n",
      "Episode: 46, steps: 50, reward: 0.95, streak: 18.\n",
      "Episode: 47, steps: 42, reward: 0.958, streak: 19.\n",
      "Episode: 48, steps: 46, reward: 0.954, streak: 20.\n",
      "Episode: 49, steps: 35, reward: 0.965, streak: 21.\n",
      "Episode: 50, steps: 45, reward: 0.955, streak: 22.\n",
      "Episode: 51, steps: 42, reward: 0.958, streak: 23.\n",
      "Episode: 52, steps: 44, reward: 0.956, streak: 24.\n",
      "Episode: 53, steps: 46, reward: 0.954, streak: 25.\n",
      "Episode: 54, steps: 43, reward: 0.957, streak: 26.\n",
      "Episode: 55, steps: 41, reward: 0.959, streak: 27.\n",
      "Episode: 56, steps: 36, reward: 0.964, streak: 28.\n",
      "Episode: 57, steps: 37, reward: 0.963, streak: 29.\n",
      "Episode: 58, steps: 48, reward: 0.952, streak: 30.\n",
      "Episode: 59, steps: 34, reward: 0.966, streak: 31.\n",
      "Episode: 60, steps: 35, reward: 0.965, streak: 32.\n",
      "Episode: 61, steps: 39, reward: 0.961, streak: 33.\n",
      "Episode: 62, steps: 34, reward: 0.966, streak: 34.\n",
      "Episode: 63, steps: 38, reward: 0.962, streak: 35.\n",
      "Episode: 64, steps: 38, reward: 0.962, streak: 36.\n",
      "Episode: 65, steps: 41, reward: 0.959, streak: 37.\n",
      "Episode: 66, steps: 39, reward: 0.961, streak: 38.\n",
      "Episode: 67, steps: 37, reward: 0.963, streak: 39.\n",
      "Episode: 68, steps: 38, reward: 0.962, streak: 40.\n",
      "Episode: 69, steps: 37, reward: 0.963, streak: 41.\n",
      "Episode: 70, steps: 36, reward: 0.964, streak: 42.\n",
      "Episode: 71, steps: 35, reward: 0.965, streak: 43.\n",
      "Episode: 72, steps: 42, reward: 0.958, streak: 44.\n",
      "Episode: 73, steps: 33, reward: 0.967, streak: 45.\n",
      "Episode: 74, steps: 40, reward: 0.96, streak: 46.\n",
      "Episode: 75, steps: 41, reward: 0.959, streak: 47.\n",
      "Episode: 76, steps: 38, reward: 0.962, streak: 48.\n",
      "Episode: 77, steps: 35, reward: 0.965, streak: 49.\n",
      "Episode: 78, steps: 35, reward: 0.965, streak: 50.\n",
      "Episode: 79, steps: 32, reward: 0.968, streak: 51.\n",
      "Episode: 80, steps: 35, reward: 0.965, streak: 52.\n",
      "Episode: 81, steps: 32, reward: 0.968, streak: 53.\n",
      "Episode: 82, steps: 31, reward: 0.969, streak: 54.\n",
      "Episode: 83, steps: 34, reward: 0.966, streak: 55.\n",
      "Episode: 84, steps: 34, reward: 0.966, streak: 56.\n",
      "Episode: 85, steps: 38, reward: 0.962, streak: 57.\n",
      "Episode: 86, steps: 37, reward: 0.963, streak: 58.\n",
      "Episode: 87, steps: 35, reward: 0.965, streak: 59.\n",
      "Episode: 88, steps: 31, reward: 0.969, streak: 60.\n",
      "Episode: 89, steps: 35, reward: 0.965, streak: 61.\n",
      "Episode: 90, steps: 31, reward: 0.969, streak: 62.\n",
      "Episode: 91, steps: 32, reward: 0.968, streak: 63.\n",
      "Episode: 92, steps: 31, reward: 0.969, streak: 64.\n",
      "Episode: 93, steps: 32, reward: 0.968, streak: 65.\n",
      "Episode: 94, steps: 31, reward: 0.969, streak: 66.\n",
      "Episode: 95, steps: 31, reward: 0.969, streak: 67.\n",
      "Episode: 96, steps: 31, reward: 0.969, streak: 68.\n",
      "Episode: 97, steps: 31, reward: 0.969, streak: 69.\n",
      "Episode: 98, steps: 31, reward: 0.969, streak: 70.\n",
      "Episode: 99, steps: 31, reward: 0.969, streak: 71.\n",
      "Episode: 100, steps: 31, reward: 0.969, streak: 72.\n",
      "Episode: 101, steps: 31, reward: 0.969, streak: 73.\n",
      "Episode: 102, steps: 31, reward: 0.969, streak: 74.\n",
      "Episode: 103, steps: 31, reward: 0.969, streak: 75.\n",
      "Episode: 104, steps: 31, reward: 0.969, streak: 76.\n",
      "Episode: 105, steps: 31, reward: 0.969, streak: 77.\n",
      "Episode: 106, steps: 31, reward: 0.969, streak: 78.\n",
      "Episode: 107, steps: 31, reward: 0.969, streak: 79.\n",
      "Episode: 108, steps: 31, reward: 0.969, streak: 80.\n",
      "Episode: 109, steps: 31, reward: 0.969, streak: 81.\n",
      "Episode: 110, steps: 31, reward: 0.969, streak: 82.\n",
      "Episode: 111, steps: 31, reward: 0.969, streak: 83.\n",
      "Episode: 112, steps: 31, reward: 0.969, streak: 84.\n",
      "Episode: 113, steps: 31, reward: 0.969, streak: 85.\n",
      "Episode: 114, steps: 31, reward: 0.969, streak: 86.\n",
      "Episode: 115, steps: 31, reward: 0.969, streak: 87.\n",
      "Episode: 116, steps: 31, reward: 0.969, streak: 88.\n",
      "Episode: 117, steps: 31, reward: 0.969, streak: 89.\n",
      "Episode: 118, steps: 31, reward: 0.969, streak: 90.\n",
      "Episode: 119, steps: 31, reward: 0.969, streak: 91.\n",
      "Episode: 120, steps: 31, reward: 0.969, streak: 92.\n",
      "Episode: 121, steps: 31, reward: 0.969, streak: 93.\n",
      "Episode: 122, steps: 31, reward: 0.969, streak: 94.\n",
      "Episode: 123, steps: 31, reward: 0.969, streak: 95.\n",
      "Episode: 124, steps: 31, reward: 0.969, streak: 96.\n",
      "Episode: 125, steps: 31, reward: 0.969, streak: 97.\n",
      "Episode: 126, steps: 31, reward: 0.969, streak: 98.\n",
      "Episode: 127, steps: 31, reward: 0.969, streak: 99.\n",
      "Episode: 128, steps: 31, reward: 0.969, streak: 100.\n"
     ]
    }
   ],
   "source": [
    "import sys\n",
    "import numpy as np\n",
    "import math\n",
    "import random\n",
    "\n",
    "import gym\n",
    "import gym_maze\n",
    "\n",
    "\n",
    "def simulate():\n",
    "\n",
    "    # Init learning and explore parameters\n",
    "    learning_rate = learn(0)\n",
    "    explore_rate = explore(0)\n",
    "    discount_factor = 0.99\n",
    "\n",
    "    streak = 0\n",
    "\n",
    "    # Render the maze\n",
    "    env.render()\n",
    "\n",
    "    # Loop for number of episodes\n",
    "    for episode in range(episodes):\n",
    "\n",
    "        # Reset the environment\n",
    "        obsv = env.reset()\n",
    "\n",
    "        # Initial state\n",
    "        state_0 = state_bucket(obsv)\n",
    "        reward_sum = 0\n",
    "\n",
    "        # Loop max steps\n",
    "        for t in range(max_steps):\n",
    "\n",
    "            # Select next action and execute\n",
    "            action = next_action(state_0, explore_rate)\n",
    "            obsv, reward, done, _ = env.step(action)\n",
    "\n",
    "            # Log the action\n",
    "            state = state_bucket(obsv)\n",
    "            reward_sum += reward\n",
    "\n",
    "            # Update Q based on the action\n",
    "            best_q = np.amax(q_table[state])\n",
    "            q_table[state_0 + (action,)] += learning_rate * (reward + discount_factor * (best_q) - q_table[state_0 + (action,)])\n",
    "            # Setup next state\n",
    "            state_0 = state\n",
    "\n",
    "\n",
    "            env.render()\n",
    "\n",
    "            if env.is_game_over():\n",
    "                sys.exit()\n",
    "\n",
    "            if done:\n",
    "                print(f\"Episode: {episode}, steps: {t}, reward: {reward_sum}, streak: {streak}.\")\n",
    "                plot_info.append(reward_sum)\n",
    "                \n",
    "                if t <= solved_steps:\n",
    "                    streak += 1\n",
    "                else:\n",
    "                    streak = 0\n",
    "                break\n",
    "\n",
    "            elif t >= max_steps - 1:\n",
    "                print(f\"Reached max steps {max_steps}\")\n",
    "\n",
    "        # Done when same result is reached n amount of times\n",
    "        if streak > max_streak:\n",
    "            break\n",
    "\n",
    "        # Update explore and learn\n",
    "        explore_rate = explore(episode)\n",
    "        learning_rate = learn(episode)\n",
    "\n",
    "\n",
    "def next_action(state, explore_rate):\n",
    "    # Select a random action\n",
    "    if random.random() < explore_rate:\n",
    "        action = env.action_space.sample()\n",
    "    # Select the action with the highest q\n",
    "    else:\n",
    "        action = int(np.argmax(q_table[state]))\n",
    "    return action\n",
    "\n",
    "\n",
    "def explore(t):\n",
    "    # return explore either min_explore or minimum of 0.8 or 1-logimatric of episode+1 / decay\n",
    "    # after 15 episodes the explore goes down all the way to 0.001\n",
    "    return max(min_explore, min(0.8, 1.0 - math.log10((t+1)/decay)))\n",
    "\n",
    "\n",
    "def learn(t):\n",
    "    # return max amount of either min learn or minimum of 0.8 or 1-logimatric of episode+1 / decay\n",
    "    # after 15 episodes the learn rate goes down - all the way to the min_learn(0.2)\n",
    "    return max(min_learn, min(0.8, 1.0 - math.log10((t+1)/decay)))\n",
    "\n",
    "\n",
    "def state_bucket(state):\n",
    "    bucket = []\n",
    "    # Loop state[0 0] at start\n",
    "    for i in range(len(state)):\n",
    "        if state[i] <= bounds[i][0]:\n",
    "            bucket_i = 0\n",
    "        elif state[i] >= bounds[i][1]:\n",
    "            bucket_i = buckets[i] - 1\n",
    "        else:\n",
    "            # Mapping the state bounds to the bucket array\n",
    "            bound_width = bounds[i][1] - bounds[i][0]\n",
    "            offset = (buckets[i]-1)*bounds[i][0]/bound_width\n",
    "            scaling = (buckets[i]-1)/bound_width\n",
    "            bucket_i = int(round(scaling*state[i] - offset))\n",
    "        bucket.append(bucket_i)\n",
    "    return tuple(bucket)\n",
    "\n",
    "\n",
    "if __name__ == \"__main__\":\n",
    "\n",
    "    # Create maze, here using a 10x10 random maze\n",
    "    env = gym.make(\"maze-random-10x10-v0\")\n",
    "\n",
    "    plot_info = []\n",
    "\n",
    "    # Environment costrains\n",
    "    # Get the size of the maze\n",
    "    size = tuple((env.observation_space.high + np.ones(env.observation_space.shape)).astype(int))\n",
    "    buckets = size  # one bucket per grid\n",
    "\n",
    "    # Get number of actions, return Up, Down, Left, Right\n",
    "    actions = env.action_space.n  \n",
    "    # Get bounds for space\n",
    "    bounds = list(zip(env.observation_space.low, env.observation_space.high))\n",
    "\n",
    "    # Learning constrains\n",
    "    min_explore = 0.001\n",
    "    min_learn = 0.2\n",
    "\n",
    "    decay = np.prod(size, dtype=float) / 10.0\n",
    "    \n",
    "    # Constrains for simulation\n",
    "    episodes = 5000\n",
    "    max_steps = np.prod(size, dtype=int) * 100\n",
    "    max_streak = 100\n",
    "    solved_steps = np.prod(size, dtype=int)\n",
    "\n",
    "    # Create Q-table for each state and action\n",
    "    q_table = np.zeros(buckets + (actions,), dtype=float)\n",
    "\n",
    "\n",
    "    # Run simulation\n",
    "    simulate()\n"
   ]
  },
  {
   "cell_type": "code",
   "execution_count": 4,
   "metadata": {
    "slideshow": {
     "slide_type": "slide"
    }
   },
   "outputs": [
    {
     "data": {
      "text/plain": [
       "[<matplotlib.lines.Line2D at 0x2cf02c1f130>]"
      ]
     },
     "execution_count": 4,
     "metadata": {},
     "output_type": "execute_result"
    },
    {
     "data": {
      "image/png": "[encoded data removed]",
      "text/plain": [
       "<Figure size 1152x648 with 1 Axes>"
      ]
     },
     "metadata": {
      "needs_background": "light"
     },
     "output_type": "display_data"
    }
   ],
   "source": [
    "import matplotlib.pyplot as plt\n",
    "\n",
    "plt.subplots(figsize=(16,9))\n",
    "plt.plot(plot_info)"
   ]
  },
  {
   "cell_type": "code",
   "execution_count": null,
   "metadata": {},
   "outputs": [],
   "source": []
  }
 ],
 "metadata": {
  "celltoolbar": "Slideshow",
  "kernelspec": {
   "display_name": "Python 3",
   "language": "python",
   "name": "python3"
  },
  "language_info": {
   "codemirror_mode": {
    "name": "ipython",
    "version": 3
   },
   "file_extension": ".py",
   "mimetype": "text/x-python",
   "name": "python",
   "nbconvert_exporter": "python",
   "pygments_lexer": "ipython3",
   "version": "3.8.3"
  }
 },
 "nbformat": 4,
 "nbformat_minor": 4
}
